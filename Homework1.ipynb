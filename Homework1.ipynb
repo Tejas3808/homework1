{
 "cells": [
  {
   "cell_type": "markdown",
   "id": "5ce4e737-d938-4ee2-9f0b-b12a0a341f4e",
   "metadata": {},
   "source": [
    "# Q1"
   ]
  },
  {
   "cell_type": "code",
   "execution_count": 1,
   "id": "a95f3a75-1fe3-4d85-b561-77c1edd1c4c1",
   "metadata": {},
   "outputs": [],
   "source": [
    "s = \"this is My First Python programming class and i am learNING python string and its function\""
   ]
  },
  {
   "cell_type": "code",
   "execution_count": 2,
   "id": "48cda39d-8169-4606-8c7d-aa47fb33a5ee",
   "metadata": {},
   "outputs": [
    {
     "data": {
      "text/plain": [
       "'this is My First Python programming class and i am learNING python string and its function'"
      ]
     },
     "execution_count": 2,
     "metadata": {},
     "output_type": "execute_result"
    }
   ],
   "source": [
    "s"
   ]
  },
  {
   "cell_type": "code",
   "execution_count": 4,
   "id": "fd2d845d-d528-4fcf-88c8-011967fb8158",
   "metadata": {},
   "outputs": [
    {
     "data": {
      "text/plain": [
       "'h   r tnrrmglsnimeNGyosi dtfco'"
      ]
     },
     "execution_count": 4,
     "metadata": {},
     "output_type": "execute_result"
    }
   ],
   "source": [
    "s[1:300:3]"
   ]
  },
  {
   "cell_type": "markdown",
   "id": "4f430723-9ebc-44aa-a753-cda8c3097c68",
   "metadata": {},
   "source": [
    "# Q2"
   ]
  },
  {
   "cell_type": "code",
   "execution_count": 5,
   "id": "80038635-bbfb-4e21-8eeb-1c4bd99fac5b",
   "metadata": {},
   "outputs": [
    {
     "data": {
      "text/plain": [
       "'noitcnuf sti dna gnirts nohtyp GNINrael ma i dna ssalc gnimmargorp nohtyP tsriF yM si siht'"
      ]
     },
     "execution_count": 5,
     "metadata": {},
     "output_type": "execute_result"
    }
   ],
   "source": [
    "s[::-1]"
   ]
  },
  {
   "cell_type": "markdown",
   "id": "e85ce29e-3dd6-4495-8a53-1fa022bb6916",
   "metadata": {},
   "source": [
    "# Q3"
   ]
  },
  {
   "cell_type": "code",
   "execution_count": 6,
   "id": "304628d7-9724-4780-8be2-383684e2e543",
   "metadata": {},
   "outputs": [
    {
     "data": {
      "text/plain": [
       "['this',\n",
       " 'is',\n",
       " 'My',\n",
       " 'First',\n",
       " 'Python',\n",
       " 'programming',\n",
       " 'class',\n",
       " 'and',\n",
       " 'i',\n",
       " 'am',\n",
       " 'learNING',\n",
       " 'python',\n",
       " 'string',\n",
       " 'and',\n",
       " 'its',\n",
       " 'function']"
      ]
     },
     "execution_count": 6,
     "metadata": {},
     "output_type": "execute_result"
    }
   ],
   "source": [
    "s.split(\" \")"
   ]
  },
  {
   "cell_type": "code",
   "execution_count": 7,
   "id": "9dd8c3d2-116a-4695-b21f-1e01c9dd20cb",
   "metadata": {},
   "outputs": [
    {
     "data": {
      "text/plain": [
       "'THIS IS MY FIRST PYTHON PROGRAMMING CLASS AND I AM LEARNING PYTHON STRING AND ITS FUNCTION'"
      ]
     },
     "execution_count": 7,
     "metadata": {},
     "output_type": "execute_result"
    }
   ],
   "source": [
    "s.upper()"
   ]
  },
  {
   "cell_type": "markdown",
   "id": "e15cbaf8-e749-46f9-9f55-81e8db2663c7",
   "metadata": {},
   "source": [
    "# Q4"
   ]
  },
  {
   "cell_type": "code",
   "execution_count": 8,
   "id": "6347f010-acfa-4475-9b14-03eaa6812d63",
   "metadata": {},
   "outputs": [
    {
     "data": {
      "text/plain": [
       "'this is my first python programming class and i am learning python string and its function'"
      ]
     },
     "execution_count": 8,
     "metadata": {},
     "output_type": "execute_result"
    }
   ],
   "source": [
    "s.lower()"
   ]
  },
  {
   "cell_type": "markdown",
   "id": "3cd30e06-79df-4796-8200-f96cb5405f71",
   "metadata": {},
   "source": [
    "# Q5"
   ]
  },
  {
   "cell_type": "code",
   "execution_count": 9,
   "id": "e0e79e32-a046-464c-8c46-77823c98836f",
   "metadata": {},
   "outputs": [
    {
     "data": {
      "text/plain": [
       "'This is my first python programming class and i am learning python string and its function'"
      ]
     },
     "execution_count": 9,
     "metadata": {},
     "output_type": "execute_result"
    }
   ],
   "source": [
    "s.capitalize()"
   ]
  },
  {
   "cell_type": "markdown",
   "id": "6bf5d7b0-10fa-4892-b3f8-325671b44b9d",
   "metadata": {},
   "source": [
    "# Q6\n",
    "\n",
    "# answer"
   ]
  },
  {
   "cell_type": "markdown",
   "id": "dab62812-10ed-4032-b2f2-5052a35db194",
   "metadata": {},
   "source": [
    "isalpha():\n",
    "\n",
    "Checks if a string contains only alphabetical characters (letters), both uppercase and lowercase. It returns True if all characters in the string are letters, and False otherwise. Examples: 'Hello World'.isalpha() returns False (contains spaces). 'HelloWorld'.isalpha() returns True.\n",
    "\n",
    "isalnum():\r\n",
    "\r\n",
    "Checks if a string contains only alphanumeric characters (letters and numbers). It returns True if all characters in the string are letters or numbers, and False otherwise. Examples: 'Hello123'.isalnum() returns False (contains letters). '123World'.isalnum() returns False (contains letters). 'HelloWorld123'.isalnum() returns True. In simpler terms, isalpha() is stricter, allowing only letters, while isalnum() is more lenient, allowing both letters and numbers."
   ]
  },
  {
   "cell_type": "markdown",
   "id": "2ee4c2f2-3824-40d5-8399-4b146cb526c7",
   "metadata": {},
   "source": [
    "# Q7"
   ]
  },
  {
   "cell_type": "code",
   "execution_count": 12,
   "id": "135576ee-1609-41ed-ad80-3ff10eb25d9f",
   "metadata": {},
   "outputs": [],
   "source": [
    "s1=\"I\\tLove\\tPython\\tLanguage\""
   ]
  },
  {
   "cell_type": "code",
   "execution_count": 13,
   "id": "4b69e3e8-9709-4ad1-b497-60c410122dca",
   "metadata": {},
   "outputs": [
    {
     "data": {
      "text/plain": [
       "'I       Love    Python  Language'"
      ]
     },
     "execution_count": 13,
     "metadata": {},
     "output_type": "execute_result"
    }
   ],
   "source": [
    "s1.expandtabs()"
   ]
  },
  {
   "cell_type": "markdown",
   "id": "c1ef0fb4-ac8f-4e46-8c21-db1ad350a5e9",
   "metadata": {},
   "source": [
    "# Q8"
   ]
  },
  {
   "cell_type": "code",
   "execution_count": 14,
   "id": "d0d1f8f0-8d0c-4d44-9f10-7c62b983fdef",
   "metadata": {},
   "outputs": [],
   "source": [
    "s2=\" My Name Is Lucifer \""
   ]
  },
  {
   "cell_type": "code",
   "execution_count": 15,
   "id": "217ecc14-750c-4aaa-8aef-16b8f1ecfa9d",
   "metadata": {},
   "outputs": [
    {
     "data": {
      "text/plain": [
       "'My Name Is Lucifer'"
      ]
     },
     "execution_count": 15,
     "metadata": {},
     "output_type": "execute_result"
    }
   ],
   "source": [
    "s2.strip()"
   ]
  },
  {
   "cell_type": "code",
   "execution_count": 16,
   "id": "1cc123c8-ba14-4a2c-9509-4cfec8efe361",
   "metadata": {},
   "outputs": [
    {
     "data": {
      "text/plain": [
       "'My Name Is Lucifer '"
      ]
     },
     "execution_count": 16,
     "metadata": {},
     "output_type": "execute_result"
    }
   ],
   "source": [
    "s2.lstrip()"
   ]
  },
  {
   "cell_type": "code",
   "execution_count": 17,
   "id": "8bf9b190-97e2-4886-a844-038e362b2f62",
   "metadata": {},
   "outputs": [
    {
     "data": {
      "text/plain": [
       "' My Name Is Lucifer'"
      ]
     },
     "execution_count": 17,
     "metadata": {},
     "output_type": "execute_result"
    }
   ],
   "source": [
    "s2.rstrip()"
   ]
  },
  {
   "cell_type": "markdown",
   "id": "9d54043d-2629-40f9-9f8a-620a61ac0b06",
   "metadata": {},
   "source": [
    "# Q9"
   ]
  },
  {
   "cell_type": "code",
   "execution_count": 18,
   "id": "7f14eb1b-02fe-4d7b-94f0-8990f27f0422",
   "metadata": {},
   "outputs": [],
   "source": [
    "s3=\"Tejas\""
   ]
  },
  {
   "cell_type": "code",
   "execution_count": 19,
   "id": "cebe0ab4-646d-4290-9205-78c5ec69bca7",
   "metadata": {},
   "outputs": [],
   "source": [
    "s3=s3.replace(\"Tejas\" , \"Madhu Priya\")"
   ]
  },
  {
   "cell_type": "code",
   "execution_count": 20,
   "id": "89907523-27d1-410e-a6d0-068944aa4a19",
   "metadata": {},
   "outputs": [
    {
     "data": {
      "text/plain": [
       "'Madhu Priya'"
      ]
     },
     "execution_count": 20,
     "metadata": {},
     "output_type": "execute_result"
    }
   ],
   "source": [
    "s3"
   ]
  },
  {
   "cell_type": "markdown",
   "id": "ab7ebf6a-149d-43b9-99c4-678cdf07e7dc",
   "metadata": {},
   "source": [
    "# Q10"
   ]
  },
  {
   "cell_type": "code",
   "execution_count": 21,
   "id": "b280b8bd-ea7d-4e8e-ade8-159def595df3",
   "metadata": {},
   "outputs": [],
   "source": [
    "s4=\"           Tejas                \""
   ]
  },
  {
   "cell_type": "code",
   "execution_count": 22,
   "id": "913f16a7-4f41-4312-8b47-177c63d9d90a",
   "metadata": {},
   "outputs": [
    {
     "data": {
      "text/plain": [
       "'           Tejas                '"
      ]
     },
     "execution_count": 22,
     "metadata": {},
     "output_type": "execute_result"
    }
   ],
   "source": [
    "s4"
   ]
  },
  {
   "cell_type": "code",
   "execution_count": 23,
   "id": "9db5ec40-eb78-4e7b-8d1c-99ab634e16cf",
   "metadata": {},
   "outputs": [
    {
     "data": {
      "text/plain": [
       "'**********************************           Tejas                **********************************'"
      ]
     },
     "execution_count": 23,
     "metadata": {},
     "output_type": "execute_result"
    }
   ],
   "source": [
    "s4.center(100,\"*\")"
   ]
  },
  {
   "cell_type": "markdown",
   "id": "0ceb2234-fcf6-4437-8f25-f42669d234c5",
   "metadata": {},
   "source": [
    "# Q11"
   ]
  },
  {
   "cell_type": "markdown",
   "id": "b711ff85-46b8-452f-8c9e-f6844409b7f8",
   "metadata": {},
   "source": [
    "Compilers: A compiler that supports the source programming language reads the files, analyzes the code, and translates it into a format suitable for the target platform."
   ]
  },
  {
   "cell_type": "markdown",
   "id": "0938734c-4898-41a1-98b7-27dba91daa51",
   "metadata": {},
   "source": [
    "# Q12"
   ]
  },
  {
   "cell_type": "markdown",
   "id": "7d6671ff-5648-43e8-9205-a6cf4ff341c2",
   "metadata": {},
   "source": [
    "Python is an interpreted language, which means the source code of a Python program is converted into bytecode that is then executed by the Python virtual machine. Python is different from major compiled languages, such as C and C , as Python code is not required to be built and linked like code for these languages. "
   ]
  },
  {
   "cell_type": "markdown",
   "id": "fe1c023b-f30d-4161-8e41-6bac8859877e",
   "metadata": {},
   "source": [
    "# Q13"
   ]
  },
  {
   "cell_type": "markdown",
   "id": "78dd1cc0-188a-422e-9f03-71634f50193e",
   "metadata": {},
   "source": [
    "easy to understand"
   ]
  },
  {
   "cell_type": "markdown",
   "id": "0e786614-c2b5-4f3a-95cd-5ff40ab13cb5",
   "metadata": {},
   "source": [
    "# Q14"
   ]
  },
  {
   "cell_type": "markdown",
   "id": "cbed430e-4c19-4321-80c4-c53a59d063e3",
   "metadata": {},
   "source": [
    "Python is user friendly, open-source and it is easy to usnderstand "
   ]
  },
  {
   "cell_type": "markdown",
   "id": "3584945a-ac75-4b5e-8e56-219d98d31597",
   "metadata": {},
   "source": [
    "# Q15"
   ]
  },
  {
   "cell_type": "markdown",
   "id": "d3a807f5-acb7-4bef-a626-457a5598c71a",
   "metadata": {},
   "source": [
    "C:\r\n",
    "• C is a procedural programming language.\r\n",
    "• It provides low-level access to memory.\r\n",
    "• It is mainly used for system programming and creating computer syst\n",
    "\n",
    "C++:\r\n",
    "• C++ is an extension of C with additional features like classes and objects, supporting the \r\n",
    "paradigm of object-oriented programming.\r\n",
    "• It provides the feature of both low-level and high-level programming.\r\n",
    "• It is widely used in game development and in system softw\n",
    "\n",
    "Java:\r\n",
    "• Java is an object-oriented programming language and is platform-independent, which \r\n",
    "means that you can run the same Java program on different operating systems without \r\n",
    "recompiling.\r\n",
    "• It doesn’t support operator overloading and doesn’t have pointers.\r\n",
    "• Java is mainly used in web and application develop\n",
    "\n",
    "Python:\r\n",
    "• Python is a high-level, interpreted programming language known for its easy syntax and \r\n",
    "readability.\r\n",
    "• It requires less typing and has a lot of libraries for various needs.\r\n",
    "• Python is widely used in AI, machine learning, and web developmentment.are.ems"
   ]
  },
  {
   "cell_type": "code",
   "execution_count": null,
   "id": "e0801264-c718-4c12-8955-8b5c3c624a58",
   "metadata": {},
   "outputs": [],
   "source": []
  }
 ],
 "metadata": {
  "kernelspec": {
   "display_name": "Python 3 (ipykernel)",
   "language": "python",
   "name": "python3"
  },
  "language_info": {
   "codemirror_mode": {
    "name": "ipython",
    "version": 3
   },
   "file_extension": ".py",
   "mimetype": "text/x-python",
   "name": "python",
   "nbconvert_exporter": "python",
   "pygments_lexer": "ipython3",
   "version": "3.11.7"
  }
 },
 "nbformat": 4,
 "nbformat_minor": 5
}
