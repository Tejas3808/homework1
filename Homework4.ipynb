{
 "cells": [
  {
   "cell_type": "markdown",
   "id": "a96b2e63-0b12-47a7-be8a-5f1254be76ab",
   "metadata": {},
   "source": [
    "# Q1"
   ]
  },
  {
   "cell_type": "code",
   "execution_count": 2,
   "id": "9c425a00-e2c5-43d5-a6b8-1f02e440b754",
   "metadata": {},
   "outputs": [
    {
     "name": "stdout",
     "output_type": "stream",
     "text": [
      "Enter the Mark\n"
     ]
    },
    {
     "name": "stdin",
     "output_type": "stream",
     "text": [
      " 600\n"
     ]
    },
    {
     "name": "stdout",
     "output_type": "stream",
     "text": [
      "Congratulations you have cleared GRE and TOFEL\n"
     ]
    }
   ],
   "source": [
    "print(\"Enter the Mark\")\n",
    "a = int(input())\n",
    "if a>=600:\n",
    "    print(\"Congratulations you have cleared GRE and TOFEL\")\n",
    "elif a>=400 and a<600:\n",
    "    print(\"You have cleared the TOFEL but not cleared GRE\")\n",
    "else:\n",
    "    print(\"Sorry You haven't cleared both Please Try Again\")"
   ]
  },
  {
   "cell_type": "markdown",
   "id": "54ba7d74-b5f2-4be8-ad5d-158cc7800638",
   "metadata": {},
   "source": []
  }
 ],
 "metadata": {
  "kernelspec": {
   "display_name": "Python 3 (ipykernel)",
   "language": "python",
   "name": "python3"
  },
  "language_info": {
   "codemirror_mode": {
    "name": "ipython",
    "version": 3
   },
   "file_extension": ".py",
   "mimetype": "text/x-python",
   "name": "python",
   "nbconvert_exporter": "python",
   "pygments_lexer": "ipython3",
   "version": "3.11.7"
  }
 },
 "nbformat": 4,
 "nbformat_minor": 5
}
