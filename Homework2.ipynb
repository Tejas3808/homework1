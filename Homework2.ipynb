{
 "cells": [
  {
   "cell_type": "markdown",
   "id": "fb43dfe7-b3f2-4d76-ac9d-d975e447694b",
   "metadata": {},
   "source": [
    "List: A list is a collection which is ordered and changeable. Lists allow duplicate members. l= [1, 2, 3, 4, 5]"
   ]
  },
  {
   "cell_type": "markdown",
   "id": "dec7cc64-f0b9-4175-a611-349b944a2264",
   "metadata": {},
   "source": [
    "Tuple: A tuple is a collection which is ordered and unchangeable. Tuples allow duplicate members. t= (1, 2, 3, 4, 5)"
   ]
  },
  {
   "cell_type": "markdown",
   "id": "d8b12c6b-ab52-4e62-b3f1-baf1ed4d0e83",
   "metadata": {},
   "source": [
    "Dictionary: A dictionary is a collection which is unordered, changeable and indexed. In Python dictionaries are written with curly brackets, and they have keys and values. d = {\"name\": \"Tejas\", \"age\": 20, \"city\": \"Solapur\"}"
   ]
  },
  {
   "cell_type": "code",
   "execution_count": null,
   "id": "2641503e-7b6d-45a3-8586-8ce7b87dbd7c",
   "metadata": {},
   "outputs": [],
   "source": []
  }
 ],
 "metadata": {
  "kernelspec": {
   "display_name": "Python 3 (ipykernel)",
   "language": "python",
   "name": "python3"
  },
  "language_info": {
   "codemirror_mode": {
    "name": "ipython",
    "version": 3
   },
   "file_extension": ".py",
   "mimetype": "text/x-python",
   "name": "python",
   "nbconvert_exporter": "python",
   "pygments_lexer": "ipython3",
   "version": "3.11.7"
  }
 },
 "nbformat": 4,
 "nbformat_minor": 5
}
