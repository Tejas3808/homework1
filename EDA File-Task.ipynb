{
 "cells": [
  {
   "cell_type": "code",
   "execution_count": 7,
   "id": "0aab2578",
   "metadata": {
    "_cell_guid": "b1076dfc-b9ad-4769-8c92-a6c4dae69d19",
    "_uuid": "8f2839f25d086af736a60e9eeb907d3b93b6e0e5",
    "execution": {
     "iopub.execute_input": "2022-08-15T11:58:43.595906Z",
     "iopub.status.busy": "2022-08-15T11:58:43.595458Z",
     "iopub.status.idle": "2022-08-15T11:58:43.617601Z",
     "shell.execute_reply": "2022-08-15T11:58:43.616200Z"
    },
    "papermill": {
     "duration": 0.042333,
     "end_time": "2022-08-15T11:58:43.621058",
     "exception": false,
     "start_time": "2022-08-15T11:58:43.578725",
     "status": "completed"
    },
    "tags": []
   },
   "outputs": [],
   "source": [
    "import numpy as np # linear algebra\n",
    "import pandas as pd # data processing, CSV file I/O (e.g. pd.read_csv)"
   ]
  },
  {
   "cell_type": "code",
   "execution_count": 8,
   "id": "b4f2f0a6",
   "metadata": {},
   "outputs": [],
   "source": [
    "df = pd.read_csv('C:\\\\Users\\\\tejas\\\\Downloads\\\\EDA - Movies_Data\\\\movies_data.csv')"
   ]
  },
  {
   "cell_type": "markdown",
   "id": "2ad6e862",
   "metadata": {
    "papermill": {
     "duration": 0.013866,
     "end_time": "2022-08-15T11:58:43.650257",
     "exception": false,
     "start_time": "2022-08-15T11:58:43.636391",
     "status": "completed"
    },
    "tags": []
   },
   "source": [
    "**ABOUT NOTEBOOK**\n",
    "* This Notebook is for EDA practice on given movies Dataset(movies_data.csv)"
   ]
  },
  {
   "cell_type": "markdown",
   "id": "32cfe602",
   "metadata": {
    "papermill": {
     "duration": 0.019753,
     "end_time": "2022-08-15T11:58:43.688567",
     "exception": false,
     "start_time": "2022-08-15T11:58:43.668814",
     "status": "completed"
    },
    "tags": []
   },
   "source": [
    "**QUESTIONS**\n",
    " * Task.1) Is there any Duplicate Record in this dataset ? If yes, then remove the duplicate records.\n",
    " * Task. 2) Is there any Null Value present in any column ?\n",
    "* Q. 1) For 'House of Cards', what is the Show Id and Who is the Director of this show ?\n",
    "* Q. 2) In which year the highest number of the TV Shows & Movies were released ? Show with Bar Graph.\n",
    "* Q. 3) How many Movies & TV Shows are in the dataset ? Show with Bar Graph.\n",
    "* Q. 4) Show all the Movies that were released in year 2000.\n",
    "* Q. 5) Show only the Titles of all TV Shows that were released in India only.\n",
    "* Q. 6) Show Top 10 Directors, who gave the highest number of TV Shows & Movies ?\n",
    "* Q. 7) Show all the Records, where \"Category is Movie and Type is Comedies\" or \"Country is United Kingdom\".\n",
    "* Q. 8) In how many movies/shows, Tom Cruise was cast ?\n",
    "* Q. 9) What are the different Ratings?\n",
    "* Q. 10.1) How many Movies got the 'TV-14' rating, in Canada ?\n",
    "* Q. 10.2) How many TV Shows got the 'R' rating, after year 2018 ?\n",
    "* Q. 11) Which individual country has the Highest No. of TV Shows ?\n",
    "* Q. 12) Find latest 10 movies details(latest mean sort by year)?\n",
    "* Q. 13) Find all the instances where: Category is 'Movie' and Type is 'Dramas' or Category is 'TV Show' & Type is 'Kids' TV'.\n"
   ]
  },
  {
   "cell_type": "code",
   "execution_count": 2,
   "id": "0b8196e3",
   "metadata": {
    "execution": {
     "iopub.execute_input": "2022-08-15T11:58:43.757537Z",
     "iopub.status.busy": "2022-08-15T11:58:43.756934Z",
     "iopub.status.idle": "2022-08-15T11:58:44.881620Z",
     "shell.execute_reply": "2022-08-15T11:58:44.880386Z"
    },
    "papermill": {
     "duration": 1.143366,
     "end_time": "2022-08-15T11:58:44.884413",
     "exception": false,
     "start_time": "2022-08-15T11:58:43.741047",
     "status": "completed"
    },
    "tags": []
   },
   "outputs": [],
   "source": [
    "#IMPORTING THE LIBRARY\n",
    "import pandas as pd\n",
    "import numpy as np\n",
    "import matplotlib.pyplot as plt"
   ]
  },
  {
   "cell_type": "code",
   "execution_count": 4,
   "id": "da280354",
   "metadata": {},
   "outputs": [
    {
     "data": {
      "text/html": [
       "<div>\n",
       "<style scoped>\n",
       "    .dataframe tbody tr th:only-of-type {\n",
       "        vertical-align: middle;\n",
       "    }\n",
       "\n",
       "    .dataframe tbody tr th {\n",
       "        vertical-align: top;\n",
       "    }\n",
       "\n",
       "    .dataframe thead th {\n",
       "        text-align: right;\n",
       "    }\n",
       "</style>\n",
       "<table border=\"1\" class=\"dataframe\">\n",
       "  <thead>\n",
       "    <tr style=\"text-align: right;\">\n",
       "      <th></th>\n",
       "      <th>show_id</th>\n",
       "      <th>type</th>\n",
       "      <th>title</th>\n",
       "      <th>director</th>\n",
       "      <th>cast</th>\n",
       "      <th>country</th>\n",
       "      <th>date_added</th>\n",
       "      <th>release_year</th>\n",
       "      <th>rating</th>\n",
       "      <th>duration</th>\n",
       "      <th>listed_in</th>\n",
       "      <th>description</th>\n",
       "    </tr>\n",
       "  </thead>\n",
       "  <tbody>\n",
       "    <tr>\n",
       "      <th>0</th>\n",
       "      <td>s1</td>\n",
       "      <td>Movie</td>\n",
       "      <td>Dick Johnson Is Dead</td>\n",
       "      <td>Kirsten Johnson</td>\n",
       "      <td>NaN</td>\n",
       "      <td>United States</td>\n",
       "      <td>September 25, 2021</td>\n",
       "      <td>2020</td>\n",
       "      <td>PG-13</td>\n",
       "      <td>90 min</td>\n",
       "      <td>Documentaries</td>\n",
       "      <td>As her father nears the end of his life, filmm...</td>\n",
       "    </tr>\n",
       "    <tr>\n",
       "      <th>1</th>\n",
       "      <td>s2</td>\n",
       "      <td>TV Show</td>\n",
       "      <td>Blood &amp; Water</td>\n",
       "      <td>NaN</td>\n",
       "      <td>Ama Qamata, Khosi Ngema, Gail Mabalane, Thaban...</td>\n",
       "      <td>South Africa</td>\n",
       "      <td>September 24, 2021</td>\n",
       "      <td>2021</td>\n",
       "      <td>TV-MA</td>\n",
       "      <td>2 Seasons</td>\n",
       "      <td>International TV Shows, TV Dramas, TV Mysteries</td>\n",
       "      <td>After crossing paths at a party, a Cape Town t...</td>\n",
       "    </tr>\n",
       "    <tr>\n",
       "      <th>2</th>\n",
       "      <td>s3</td>\n",
       "      <td>TV Show</td>\n",
       "      <td>Ganglands</td>\n",
       "      <td>Julien Leclercq</td>\n",
       "      <td>Sami Bouajila, Tracy Gotoas, Samuel Jouy, Nabi...</td>\n",
       "      <td>NaN</td>\n",
       "      <td>September 24, 2021</td>\n",
       "      <td>2021</td>\n",
       "      <td>TV-MA</td>\n",
       "      <td>1 Season</td>\n",
       "      <td>Crime TV Shows, International TV Shows, TV Act...</td>\n",
       "      <td>To protect his family from a powerful drug lor...</td>\n",
       "    </tr>\n",
       "    <tr>\n",
       "      <th>3</th>\n",
       "      <td>s4</td>\n",
       "      <td>TV Show</td>\n",
       "      <td>Jailbirds New Orleans</td>\n",
       "      <td>NaN</td>\n",
       "      <td>NaN</td>\n",
       "      <td>NaN</td>\n",
       "      <td>September 24, 2021</td>\n",
       "      <td>2021</td>\n",
       "      <td>TV-MA</td>\n",
       "      <td>1 Season</td>\n",
       "      <td>Docuseries, Reality TV</td>\n",
       "      <td>Feuds, flirtations and toilet talk go down amo...</td>\n",
       "    </tr>\n",
       "    <tr>\n",
       "      <th>4</th>\n",
       "      <td>s5</td>\n",
       "      <td>TV Show</td>\n",
       "      <td>Kota Factory</td>\n",
       "      <td>NaN</td>\n",
       "      <td>Mayur More, Jitendra Kumar, Ranjan Raj, Alam K...</td>\n",
       "      <td>India</td>\n",
       "      <td>September 24, 2021</td>\n",
       "      <td>2021</td>\n",
       "      <td>TV-MA</td>\n",
       "      <td>2 Seasons</td>\n",
       "      <td>International TV Shows, Romantic TV Shows, TV ...</td>\n",
       "      <td>In a city of coaching centers known to train I...</td>\n",
       "    </tr>\n",
       "  </tbody>\n",
       "</table>\n",
       "</div>"
      ],
      "text/plain": [
       "  show_id     type                  title         director  \\\n",
       "0      s1    Movie   Dick Johnson Is Dead  Kirsten Johnson   \n",
       "1      s2  TV Show          Blood & Water              NaN   \n",
       "2      s3  TV Show              Ganglands  Julien Leclercq   \n",
       "3      s4  TV Show  Jailbirds New Orleans              NaN   \n",
       "4      s5  TV Show           Kota Factory              NaN   \n",
       "\n",
       "                                                cast        country  \\\n",
       "0                                                NaN  United States   \n",
       "1  Ama Qamata, Khosi Ngema, Gail Mabalane, Thaban...   South Africa   \n",
       "2  Sami Bouajila, Tracy Gotoas, Samuel Jouy, Nabi...            NaN   \n",
       "3                                                NaN            NaN   \n",
       "4  Mayur More, Jitendra Kumar, Ranjan Raj, Alam K...          India   \n",
       "\n",
       "           date_added  release_year rating   duration  \\\n",
       "0  September 25, 2021          2020  PG-13     90 min   \n",
       "1  September 24, 2021          2021  TV-MA  2 Seasons   \n",
       "2  September 24, 2021          2021  TV-MA   1 Season   \n",
       "3  September 24, 2021          2021  TV-MA   1 Season   \n",
       "4  September 24, 2021          2021  TV-MA  2 Seasons   \n",
       "\n",
       "                                           listed_in  \\\n",
       "0                                      Documentaries   \n",
       "1    International TV Shows, TV Dramas, TV Mysteries   \n",
       "2  Crime TV Shows, International TV Shows, TV Act...   \n",
       "3                             Docuseries, Reality TV   \n",
       "4  International TV Shows, Romantic TV Shows, TV ...   \n",
       "\n",
       "                                         description  \n",
       "0  As her father nears the end of his life, filmm...  \n",
       "1  After crossing paths at a party, a Cape Town t...  \n",
       "2  To protect his family from a powerful drug lor...  \n",
       "3  Feuds, flirtations and toilet talk go down amo...  \n",
       "4  In a city of coaching centers known to train I...  "
      ]
     },
     "execution_count": 4,
     "metadata": {},
     "output_type": "execute_result"
    }
   ],
   "source": [
    "df.head()"
   ]
  },
  {
   "cell_type": "markdown",
   "id": "3a8c8a78",
   "metadata": {
    "execution": {
     "iopub.execute_input": "2022-08-15T11:58:44.914724Z",
     "iopub.status.busy": "2022-08-15T11:58:44.914131Z",
     "iopub.status.idle": "2022-08-15T11:58:45.064702Z",
     "shell.execute_reply": "2022-08-15T11:58:45.063560Z"
    },
    "papermill": {
     "duration": 0.168785,
     "end_time": "2022-08-15T11:58:45.067210",
     "exception": false,
     "start_time": "2022-08-15T11:58:44.898425",
     "status": "completed"
    },
    "tags": []
   },
   "source": [
    "#### Task 1 : Drop Duplicates"
   ]
  },
  {
   "cell_type": "code",
   "execution_count": 5,
   "id": "d096d077",
   "metadata": {},
   "outputs": [
    {
     "name": "stdout",
     "output_type": "stream",
     "text": [
      "     show_id     type                  title         director  \\\n",
      "0         s1    Movie   Dick Johnson Is Dead  Kirsten Johnson   \n",
      "1         s2  TV Show          Blood & Water              NaN   \n",
      "2         s3  TV Show              Ganglands  Julien Leclercq   \n",
      "3         s4  TV Show  Jailbirds New Orleans              NaN   \n",
      "4         s5  TV Show           Kota Factory              NaN   \n",
      "...      ...      ...                    ...              ...   \n",
      "8802   s8803    Movie                 Zodiac    David Fincher   \n",
      "8803   s8804  TV Show            Zombie Dumb              NaN   \n",
      "8804   s8805    Movie             Zombieland  Ruben Fleischer   \n",
      "8805   s8806    Movie                   Zoom     Peter Hewitt   \n",
      "8806   s8807    Movie                 Zubaan      Mozez Singh   \n",
      "\n",
      "                                                   cast        country  \\\n",
      "0                                                   NaN  United States   \n",
      "1     Ama Qamata, Khosi Ngema, Gail Mabalane, Thaban...   South Africa   \n",
      "2     Sami Bouajila, Tracy Gotoas, Samuel Jouy, Nabi...            NaN   \n",
      "3                                                   NaN            NaN   \n",
      "4     Mayur More, Jitendra Kumar, Ranjan Raj, Alam K...          India   \n",
      "...                                                 ...            ...   \n",
      "8802  Mark Ruffalo, Jake Gyllenhaal, Robert Downey J...  United States   \n",
      "8803                                                NaN            NaN   \n",
      "8804  Jesse Eisenberg, Woody Harrelson, Emma Stone, ...  United States   \n",
      "8805  Tim Allen, Courteney Cox, Chevy Chase, Kate Ma...  United States   \n",
      "8806  Vicky Kaushal, Sarah-Jane Dias, Raaghav Chanan...          India   \n",
      "\n",
      "              date_added  release_year rating   duration  \\\n",
      "0     September 25, 2021          2020  PG-13     90 min   \n",
      "1     September 24, 2021          2021  TV-MA  2 Seasons   \n",
      "2     September 24, 2021          2021  TV-MA   1 Season   \n",
      "3     September 24, 2021          2021  TV-MA   1 Season   \n",
      "4     September 24, 2021          2021  TV-MA  2 Seasons   \n",
      "...                  ...           ...    ...        ...   \n",
      "8802   November 20, 2019          2007      R    158 min   \n",
      "8803        July 1, 2019          2018  TV-Y7  2 Seasons   \n",
      "8804    November 1, 2019          2009      R     88 min   \n",
      "8805    January 11, 2020          2006     PG     88 min   \n",
      "8806       March 2, 2019          2015  TV-14    111 min   \n",
      "\n",
      "                                              listed_in  \\\n",
      "0                                         Documentaries   \n",
      "1       International TV Shows, TV Dramas, TV Mysteries   \n",
      "2     Crime TV Shows, International TV Shows, TV Act...   \n",
      "3                                Docuseries, Reality TV   \n",
      "4     International TV Shows, Romantic TV Shows, TV ...   \n",
      "...                                                 ...   \n",
      "8802                     Cult Movies, Dramas, Thrillers   \n",
      "8803             Kids' TV, Korean TV Shows, TV Comedies   \n",
      "8804                            Comedies, Horror Movies   \n",
      "8805                 Children & Family Movies, Comedies   \n",
      "8806     Dramas, International Movies, Music & Musicals   \n",
      "\n",
      "                                            description  \n",
      "0     As her father nears the end of his life, filmm...  \n",
      "1     After crossing paths at a party, a Cape Town t...  \n",
      "2     To protect his family from a powerful drug lor...  \n",
      "3     Feuds, flirtations and toilet talk go down amo...  \n",
      "4     In a city of coaching centers known to train I...  \n",
      "...                                                 ...  \n",
      "8802  A political cartoonist, a crime reporter and a...  \n",
      "8803  While living alone in a spooky town, a young g...  \n",
      "8804  Looking to survive in a world taken over by zo...  \n",
      "8805  Dragged from civilian life, a former superhero...  \n",
      "8806  A scrappy but poor boy worms his way into a ty...  \n",
      "\n",
      "[8807 rows x 12 columns]\n"
     ]
    }
   ],
   "source": [
    "data = df.drop_duplicates()\n",
    "print(data)"
   ]
  },
  {
   "cell_type": "code",
   "execution_count": null,
   "id": "a878f993",
   "metadata": {},
   "outputs": [],
   "source": []
  },
  {
   "cell_type": "markdown",
   "id": "fac8e1aa",
   "metadata": {},
   "source": [
    "#### Task 2 : Handle NaN values."
   ]
  },
  {
   "cell_type": "code",
   "execution_count": 6,
   "id": "300ac34c",
   "metadata": {},
   "outputs": [
    {
     "name": "stdout",
     "output_type": "stream",
     "text": [
      "show_id            0\n",
      "type               0\n",
      "title              0\n",
      "director        2634\n",
      "cast             825\n",
      "country          831\n",
      "date_added        10\n",
      "release_year       0\n",
      "rating             4\n",
      "duration           3\n",
      "listed_in          0\n",
      "description        0\n",
      "dtype: int64\n"
     ]
    }
   ],
   "source": [
    "null_counts = df.isnull().sum()\n",
    "print(null_counts)"
   ]
  },
  {
   "cell_type": "markdown",
   "id": "393368c0",
   "metadata": {
    "papermill": {
     "duration": 0.014525,
     "end_time": "2022-08-15T11:58:45.372311",
     "exception": false,
     "start_time": "2022-08-15T11:58:45.357786",
     "status": "completed"
    },
    "tags": []
   },
   "source": [
    "**1) Is there any Duplicate Record in this dataset ? If yes, then remove the duplicate records.**"
   ]
  },
  {
   "cell_type": "code",
   "execution_count": 9,
   "id": "1fd92541",
   "metadata": {
    "execution": {
     "iopub.execute_input": "2022-08-15T11:58:45.403615Z",
     "iopub.status.busy": "2022-08-15T11:58:45.402920Z",
     "iopub.status.idle": "2022-08-15T11:58:45.436021Z",
     "shell.execute_reply": "2022-08-15T11:58:45.434791Z"
    },
    "papermill": {
     "duration": 0.05154,
     "end_time": "2022-08-15T11:58:45.438463",
     "exception": false,
     "start_time": "2022-08-15T11:58:45.386923",
     "status": "completed"
    },
    "tags": []
   },
   "outputs": [
    {
     "name": "stdout",
     "output_type": "stream",
     "text": [
      "     show_id     type                  title         director  \\\n",
      "0         s1    Movie   Dick Johnson Is Dead  Kirsten Johnson   \n",
      "1         s2  TV Show          Blood & Water              NaN   \n",
      "2         s3  TV Show              Ganglands  Julien Leclercq   \n",
      "3         s4  TV Show  Jailbirds New Orleans              NaN   \n",
      "4         s5  TV Show           Kota Factory              NaN   \n",
      "...      ...      ...                    ...              ...   \n",
      "8802   s8803    Movie                 Zodiac    David Fincher   \n",
      "8803   s8804  TV Show            Zombie Dumb              NaN   \n",
      "8804   s8805    Movie             Zombieland  Ruben Fleischer   \n",
      "8805   s8806    Movie                   Zoom     Peter Hewitt   \n",
      "8806   s8807    Movie                 Zubaan      Mozez Singh   \n",
      "\n",
      "                                                   cast        country  \\\n",
      "0                                                   NaN  United States   \n",
      "1     Ama Qamata, Khosi Ngema, Gail Mabalane, Thaban...   South Africa   \n",
      "2     Sami Bouajila, Tracy Gotoas, Samuel Jouy, Nabi...            NaN   \n",
      "3                                                   NaN            NaN   \n",
      "4     Mayur More, Jitendra Kumar, Ranjan Raj, Alam K...          India   \n",
      "...                                                 ...            ...   \n",
      "8802  Mark Ruffalo, Jake Gyllenhaal, Robert Downey J...  United States   \n",
      "8803                                                NaN            NaN   \n",
      "8804  Jesse Eisenberg, Woody Harrelson, Emma Stone, ...  United States   \n",
      "8805  Tim Allen, Courteney Cox, Chevy Chase, Kate Ma...  United States   \n",
      "8806  Vicky Kaushal, Sarah-Jane Dias, Raaghav Chanan...          India   \n",
      "\n",
      "              date_added  release_year rating   duration  \\\n",
      "0     September 25, 2021          2020  PG-13     90 min   \n",
      "1     September 24, 2021          2021  TV-MA  2 Seasons   \n",
      "2     September 24, 2021          2021  TV-MA   1 Season   \n",
      "3     September 24, 2021          2021  TV-MA   1 Season   \n",
      "4     September 24, 2021          2021  TV-MA  2 Seasons   \n",
      "...                  ...           ...    ...        ...   \n",
      "8802   November 20, 2019          2007      R    158 min   \n",
      "8803        July 1, 2019          2018  TV-Y7  2 Seasons   \n",
      "8804    November 1, 2019          2009      R     88 min   \n",
      "8805    January 11, 2020          2006     PG     88 min   \n",
      "8806       March 2, 2019          2015  TV-14    111 min   \n",
      "\n",
      "                                              listed_in  \\\n",
      "0                                         Documentaries   \n",
      "1       International TV Shows, TV Dramas, TV Mysteries   \n",
      "2     Crime TV Shows, International TV Shows, TV Act...   \n",
      "3                                Docuseries, Reality TV   \n",
      "4     International TV Shows, Romantic TV Shows, TV ...   \n",
      "...                                                 ...   \n",
      "8802                     Cult Movies, Dramas, Thrillers   \n",
      "8803             Kids' TV, Korean TV Shows, TV Comedies   \n",
      "8804                            Comedies, Horror Movies   \n",
      "8805                 Children & Family Movies, Comedies   \n",
      "8806     Dramas, International Movies, Music & Musicals   \n",
      "\n",
      "                                            description  \n",
      "0     As her father nears the end of his life, filmm...  \n",
      "1     After crossing paths at a party, a Cape Town t...  \n",
      "2     To protect his family from a powerful drug lor...  \n",
      "3     Feuds, flirtations and toilet talk go down amo...  \n",
      "4     In a city of coaching centers known to train I...  \n",
      "...                                                 ...  \n",
      "8802  A political cartoonist, a crime reporter and a...  \n",
      "8803  While living alone in a spooky town, a young g...  \n",
      "8804  Looking to survive in a world taken over by zo...  \n",
      "8805  Dragged from civilian life, a former superhero...  \n",
      "8806  A scrappy but poor boy worms his way into a ty...  \n",
      "\n",
      "[8807 rows x 12 columns]\n"
     ]
    }
   ],
   "source": [
    "df_no_duplicates = df.drop_duplicates()\n",
    "print(df_no_duplicates)"
   ]
  },
  {
   "cell_type": "code",
   "execution_count": 10,
   "id": "022d37cc",
   "metadata": {},
   "outputs": [
    {
     "data": {
      "text/plain": [
       "0       False\n",
       "1       False\n",
       "2       False\n",
       "3       False\n",
       "4       False\n",
       "        ...  \n",
       "8802    False\n",
       "8803    False\n",
       "8804    False\n",
       "8805    False\n",
       "8806    False\n",
       "Length: 8807, dtype: bool"
      ]
     },
     "execution_count": 10,
     "metadata": {},
     "output_type": "execute_result"
    }
   ],
   "source": [
    "df.duplicated()"
   ]
  },
  {
   "cell_type": "markdown",
   "id": "2e0d8498",
   "metadata": {
    "papermill": {
     "duration": 0.0148,
     "end_time": "2022-08-15T11:58:45.567164",
     "exception": false,
     "start_time": "2022-08-15T11:58:45.552364",
     "status": "completed"
    },
    "tags": []
   },
   "source": [
    "**Task. 2) Is there any Null Value present in any column ?**"
   ]
  },
  {
   "cell_type": "code",
   "execution_count": 11,
   "id": "3753e0b0",
   "metadata": {},
   "outputs": [
    {
     "name": "stdout",
     "output_type": "stream",
     "text": [
      "show_id            0\n",
      "type               0\n",
      "title              0\n",
      "director        2634\n",
      "cast             825\n",
      "country          831\n",
      "date_added        10\n",
      "release_year       0\n",
      "rating             4\n",
      "duration           3\n",
      "listed_in          0\n",
      "description        0\n",
      "dtype: int64\n"
     ]
    }
   ],
   "source": [
    "null_counts = df.isnull().sum()\n",
    "print(null_counts)"
   ]
  },
  {
   "cell_type": "markdown",
   "id": "7d3869c7",
   "metadata": {
    "papermill": {
     "duration": 0.015549,
     "end_time": "2022-08-15T11:58:46.280023",
     "exception": false,
     "start_time": "2022-08-15T11:58:46.264474",
     "status": "completed"
    },
    "tags": []
   },
   "source": [
    "**Q. 1) For 'House of Cards', what is the Show Id and Who is the Director of this show ?**"
   ]
  },
  {
   "cell_type": "code",
   "execution_count": 12,
   "id": "77c3f310",
   "metadata": {},
   "outputs": [
    {
     "name": "stdout",
     "output_type": "stream",
     "text": [
      "     show_id director\n",
      "1059   s1060      NaN\n"
     ]
    }
   ],
   "source": [
    "movie_name = \"House of Cards\"\n",
    "filtered_movie = df[df['title'] == movie_name]\n",
    "filtered_movie\n",
    "result = filtered_movie[['show_id', 'director']]\n",
    "print(result)"
   ]
  },
  {
   "cell_type": "markdown",
   "id": "2ccca6a2",
   "metadata": {
    "papermill": {
     "duration": 0.016466,
     "end_time": "2022-08-15T11:58:46.477394",
     "exception": false,
     "start_time": "2022-08-15T11:58:46.460928",
     "status": "completed"
    },
    "tags": []
   },
   "source": [
    "**2) In which year the highest number of the TV Shows & Movies were released ? Show with Bar Graph.**"
   ]
  },
  {
   "cell_type": "code",
   "execution_count": null,
   "id": "bf775535",
   "metadata": {},
   "outputs": [],
   "source": []
  },
  {
   "cell_type": "markdown",
   "id": "c14c7c70",
   "metadata": {
    "papermill": {
     "duration": 0.016995,
     "end_time": "2022-08-15T11:58:48.654720",
     "exception": false,
     "start_time": "2022-08-15T11:58:48.637725",
     "status": "completed"
    },
    "tags": []
   },
   "source": [
    "**3) How many Movies & TV Shows are in the dataset ? Show with Bar Graph.**"
   ]
  },
  {
   "cell_type": "code",
   "execution_count": null,
   "id": "49f8b74a",
   "metadata": {
    "papermill": {
     "duration": 0.018329,
     "end_time": "2022-08-15T11:58:49.393895",
     "exception": false,
     "start_time": "2022-08-15T11:58:49.375566",
     "status": "completed"
    },
    "tags": []
   },
   "outputs": [],
   "source": []
  },
  {
   "cell_type": "markdown",
   "id": "0d5a625c",
   "metadata": {
    "papermill": {
     "duration": 0.018391,
     "end_time": "2022-08-15T11:58:49.431184",
     "exception": false,
     "start_time": "2022-08-15T11:58:49.412793",
     "status": "completed"
    },
    "tags": []
   },
   "source": [
    "**Q. 4) Show all the Movies that were released in year 2000**"
   ]
  },
  {
   "cell_type": "code",
   "execution_count": 13,
   "id": "0c85a4ae",
   "metadata": {},
   "outputs": [
    {
     "name": "stdout",
     "output_type": "stream",
     "text": [
      "         type                                              title\n",
      "180     Movie                 The Nutty Professor II: The Klumps\n",
      "350     Movie                                      Space Cowboys\n",
      "359     Movie                       The Original Kings of Comedy\n",
      "566     Movie                                   Charlie's Angels\n",
      "593     Movie                                           Snow Day\n",
      "779     Movie                                  Battlefield Earth\n",
      "952     Movie                               The Whole Nine Yards\n",
      "2173  TV Show                                             Moesha\n",
      "3472    Movie                        Rugrats in Paris: The Movie\n",
      "4545    Movie             Monty Python: Before the Flying Circus\n",
      "4723    Movie                                               Fiza\n",
      "4956    Movie                        Phir Bhi Dil Hai Hindustani\n",
      "5098  TV Show                             Pokémon: Indigo League\n",
      "5245  TV Show                                 Star Trek: Voyager\n",
      "5953    Movie                             Joseph: King of Dreams\n",
      "6006    Movie                                            28 Days\n",
      "6147    Movie                                    American Psycho\n",
      "6154    Movie  An American Tail: The Treasures of Manhattan I...\n",
      "6311    Movie                                       Billy Elliot\n",
      "6437    Movie                                       Center Stage\n",
      "6440    Movie                                     Chal Mere Bhai\n",
      "6543    Movie                     Crouching Tiger, Hidden Dragon\n",
      "6643    Movie                       Dragonheart: A New Beginning\n",
      "6753    Movie                                  Final Destination\n",
      "6912    Movie                          Hamara Dil Aapke Paas Hai\n",
      "7013    Movie                     How the Grinch Stole Christmas\n",
      "7247    Movie                                          Kya Kehna\n",
      "7316    Movie                                       Little Nicky\n",
      "7702    Movie                                     Papa the Great\n",
      "7766  TV Show                    Power Rangers Lightspeed Rescue\n",
      "7801    Movie                                              Pukar\n",
      "7955    Movie                                        Scary Movie\n",
      "7962    Movie                                           Scream 3\n",
      "8196    Movie                                     The Art of War\n",
      "8305    Movie                 The Flintstones in Viva Rock Vegas\n",
      "8722    Movie                                  What Lies Beneath\n",
      "8729    Movie                                 Where the Money Is\n"
     ]
    }
   ],
   "source": [
    "filtered_movie = df[df['release_year'] == 2000]\n",
    "result = filtered_movie[['type', 'title']]\n",
    "print(result)"
   ]
  },
  {
   "cell_type": "markdown",
   "id": "c026d91a",
   "metadata": {
    "papermill": {
     "duration": 0.018883,
     "end_time": "2022-08-15T11:58:49.520633",
     "exception": false,
     "start_time": "2022-08-15T11:58:49.501750",
     "status": "completed"
    },
    "tags": []
   },
   "source": [
    "**Q. 5) Show only the Titles of all TV Shows that were released in India only.**"
   ]
  },
  {
   "cell_type": "code",
   "execution_count": 18,
   "id": "67c1353a",
   "metadata": {},
   "outputs": [
    {
     "name": "stdout",
     "output_type": "stream",
     "text": [
      "      type         title\n",
      "4  TV Show  Kota Factory\n"
     ]
    }
   ],
   "source": [
    "filtered_movie = df[df['country'] == 'India']\n",
    "result = filtered_movie[['type', 'title']]\n",
    "print(result)\n"
   ]
  },
  {
   "cell_type": "markdown",
   "id": "50e975c2",
   "metadata": {
    "papermill": {
     "duration": 0.019265,
     "end_time": "2022-08-15T11:58:49.612043",
     "exception": false,
     "start_time": "2022-08-15T11:58:49.592778",
     "status": "completed"
    },
    "tags": []
   },
   "source": [
    "**Q. 6) Show Top 10 Directors, who gave the highest number of TV Shows & Movies?**"
   ]
  },
  {
   "cell_type": "code",
   "execution_count": null,
   "id": "79771dba",
   "metadata": {
    "papermill": {
     "duration": 0.018518,
     "end_time": "2022-08-15T11:58:49.702098",
     "exception": false,
     "start_time": "2022-08-15T11:58:49.683580",
     "status": "completed"
    },
    "tags": []
   },
   "outputs": [],
   "source": []
  },
  {
   "cell_type": "markdown",
   "id": "3638a2d0",
   "metadata": {
    "papermill": {
     "duration": 0.018922,
     "end_time": "2022-08-15T11:58:49.739888",
     "exception": false,
     "start_time": "2022-08-15T11:58:49.720966",
     "status": "completed"
    },
    "tags": []
   },
   "source": [
    "**Q. 7) Show all the Records, where \"Category is Movie and Type is Comedies\" or \"Country is United Kingdom\".**"
   ]
  },
  {
   "cell_type": "code",
   "execution_count": 9,
   "id": "b2ff134a",
   "metadata": {
    "scrolled": true
   },
   "outputs": [
    {
     "name": "stdout",
     "output_type": "stream",
     "text": [
      "       type                                title\n",
      "233   Movie                          Count Me In\n",
      "292   Movie                              Quartet\n",
      "304   Movie  Lady Boss: The Jackie Collins Story\n",
      "402   Movie      The Last Letter From Your Lover\n",
      "589   Movie                             Red Joan\n",
      "...     ...                                  ...\n",
      "8732  Movie                        White Chamber\n",
      "8733  Movie                         White Island\n",
      "8737  Movie           Why Are We Getting So Fat?\n",
      "8744  Movie                             Williams\n",
      "8786  Movie                         You Can Tutu\n",
      "\n",
      "[206 rows x 2 columns]\n"
     ]
    }
   ],
   "source": [
    "f_m1 = df[df['country'] == 'United Kingdom']\n",
    "f_m2 = f_m1[f_m1['type'] == 'Movie']\n",
    "result = f_m2[['type', 'title']]\n",
    "print(result)"
   ]
  },
  {
   "cell_type": "markdown",
   "id": "a2bc072e",
   "metadata": {
    "papermill": {
     "duration": 0.019381,
     "end_time": "2022-08-15T11:58:49.897289",
     "exception": false,
     "start_time": "2022-08-15T11:58:49.877908",
     "status": "completed"
    },
    "tags": []
   },
   "source": [
    "**Q. 8) In how many movies/shows, Tom Cruise was cast ?**"
   ]
  },
  {
   "cell_type": "markdown",
   "id": "42430fd2",
   "metadata": {},
   "source": [
    "Hint : https://pandas.pydata.org/docs/reference/api/pandas.Series.str.contains.html"
   ]
  },
  {
   "cell_type": "code",
   "execution_count": 10,
   "id": "095c047d",
   "metadata": {},
   "outputs": [
    {
     "data": {
      "text/plain": [
       "0"
      ]
     },
     "execution_count": 10,
     "metadata": {},
     "output_type": "execute_result"
    }
   ],
   "source": [
    "f = df[df['cast'] == 'Tom Cruise']\n",
    "f.size"
   ]
  },
  {
   "cell_type": "markdown",
   "id": "8e3e7778",
   "metadata": {
    "papermill": {
     "duration": 0.019687,
     "end_time": "2022-08-15T11:58:50.063275",
     "exception": false,
     "start_time": "2022-08-15T11:58:50.043588",
     "status": "completed"
    },
    "tags": []
   },
   "source": [
    "**Q. 9) What are the different Ratings?(i.e unique ratings)**"
   ]
  },
  {
   "cell_type": "markdown",
   "id": "4c2dc86a",
   "metadata": {},
   "source": [
    "Hint : https://pandas.pydata.org/docs/reference/api/pandas.DataFrame.nunique.html"
   ]
  },
  {
   "cell_type": "code",
   "execution_count": null,
   "id": "cd5bd72c",
   "metadata": {
    "execution": {
     "iopub.execute_input": "2022-08-15T11:58:50.208173Z",
     "iopub.status.busy": "2022-08-15T11:58:50.207090Z",
     "iopub.status.idle": "2022-08-15T11:58:50.213818Z",
     "shell.execute_reply": "2022-08-15T11:58:50.213112Z"
    },
    "papermill": {
     "duration": 0.030173,
     "end_time": "2022-08-15T11:58:50.215720",
     "exception": false,
     "start_time": "2022-08-15T11:58:50.185547",
     "status": "completed"
    },
    "tags": []
   },
   "outputs": [],
   "source": []
  },
  {
   "cell_type": "markdown",
   "id": "533e8413",
   "metadata": {
    "papermill": {
     "duration": 0.019874,
     "end_time": "2022-08-15T11:58:50.255830",
     "exception": false,
     "start_time": "2022-08-15T11:58:50.235956",
     "status": "completed"
    },
    "tags": []
   },
   "source": [
    "**10.1) How many Movies got the 'TV-14' rating, in Canada ?**"
   ]
  },
  {
   "cell_type": "code",
   "execution_count": 11,
   "id": "fff976ad",
   "metadata": {
    "execution": {
     "iopub.execute_input": "2022-08-15T11:58:50.298489Z",
     "iopub.status.busy": "2022-08-15T11:58:50.297653Z",
     "iopub.status.idle": "2022-08-15T11:58:50.308872Z",
     "shell.execute_reply": "2022-08-15T11:58:50.307637Z"
    },
    "papermill": {
     "duration": 0.03547,
     "end_time": "2022-08-15T11:58:50.311572",
     "exception": false,
     "start_time": "2022-08-15T11:58:50.276102",
     "status": "completed"
    },
    "tags": []
   },
   "outputs": [
    {
     "data": {
      "text/html": [
       "<div>\n",
       "<style scoped>\n",
       "    .dataframe tbody tr th:only-of-type {\n",
       "        vertical-align: middle;\n",
       "    }\n",
       "\n",
       "    .dataframe tbody tr th {\n",
       "        vertical-align: top;\n",
       "    }\n",
       "\n",
       "    .dataframe thead th {\n",
       "        text-align: right;\n",
       "    }\n",
       "</style>\n",
       "<table border=\"1\" class=\"dataframe\">\n",
       "  <thead>\n",
       "    <tr style=\"text-align: right;\">\n",
       "      <th></th>\n",
       "      <th>show_id</th>\n",
       "      <th>type</th>\n",
       "      <th>title</th>\n",
       "      <th>director</th>\n",
       "      <th>cast</th>\n",
       "      <th>country</th>\n",
       "      <th>date_added</th>\n",
       "      <th>release_year</th>\n",
       "      <th>rating</th>\n",
       "      <th>duration</th>\n",
       "      <th>listed_in</th>\n",
       "      <th>description</th>\n",
       "    </tr>\n",
       "  </thead>\n",
       "  <tbody>\n",
       "  </tbody>\n",
       "</table>\n",
       "</div>"
      ],
      "text/plain": [
       "Empty DataFrame\n",
       "Columns: [show_id, type, title, director, cast, country, date_added, release_year, rating, duration, listed_in, description]\n",
       "Index: []"
      ]
     },
     "execution_count": 11,
     "metadata": {},
     "output_type": "execute_result"
    }
   ],
   "source": [
    "m = df[df['country'] == 'Canada']\n",
    "n = m[m['rating'] == 'TV-14']\n",
    "p = n[n['type'] == 'Movies']\n",
    "p"
   ]
  },
  {
   "cell_type": "markdown",
   "id": "be698aa4",
   "metadata": {
    "papermill": {
     "duration": 0.020273,
     "end_time": "2022-08-15T11:58:50.352396",
     "exception": false,
     "start_time": "2022-08-15T11:58:50.332123",
     "status": "completed"
    },
    "tags": []
   },
   "source": [
    "**10.2) How many TV Shows got the 'TV-MA' rating, after year 2018 ?**"
   ]
  },
  {
   "cell_type": "code",
   "execution_count": null,
   "id": "afa87fc9",
   "metadata": {
    "execution": {
     "iopub.execute_input": "2022-08-15T11:58:50.395699Z",
     "iopub.status.busy": "2022-08-15T11:58:50.394942Z",
     "iopub.status.idle": "2022-08-15T11:58:50.405981Z",
     "shell.execute_reply": "2022-08-15T11:58:50.404817Z"
    },
    "papermill": {
     "duration": 0.03523,
     "end_time": "2022-08-15T11:58:50.408232",
     "exception": false,
     "start_time": "2022-08-15T11:58:50.373002",
     "status": "completed"
    },
    "tags": []
   },
   "outputs": [],
   "source": []
  },
  {
   "cell_type": "markdown",
   "id": "c56d9f10",
   "metadata": {
    "papermill": {
     "duration": 0.020789,
     "end_time": "2022-08-15T11:58:50.840074",
     "exception": false,
     "start_time": "2022-08-15T11:58:50.819285",
     "status": "completed"
    },
    "tags": []
   },
   "source": [
    "**11) Which individual country has the Highest No. of TV Shows ?**"
   ]
  },
  {
   "cell_type": "code",
   "execution_count": null,
   "id": "c2256429",
   "metadata": {
    "execution": {
     "iopub.execute_input": "2022-08-15T11:58:50.884641Z",
     "iopub.status.busy": "2022-08-15T11:58:50.883936Z",
     "iopub.status.idle": "2022-08-15T11:58:50.898581Z",
     "shell.execute_reply": "2022-08-15T11:58:50.897797Z"
    },
    "papermill": {
     "duration": 0.039129,
     "end_time": "2022-08-15T11:58:50.900631",
     "exception": false,
     "start_time": "2022-08-15T11:58:50.861502",
     "status": "completed"
    },
    "tags": []
   },
   "outputs": [],
   "source": []
  },
  {
   "cell_type": "markdown",
   "id": "b3cc9860",
   "metadata": {
    "papermill": {
     "duration": 0.02135,
     "end_time": "2022-08-15T11:58:50.943546",
     "exception": false,
     "start_time": "2022-08-15T11:58:50.922196",
     "status": "completed"
    },
    "tags": []
   },
   "source": [
    "**12) Find latest 10 movies details(latest means sort by year)?**"
   ]
  },
  {
   "cell_type": "code",
   "execution_count": null,
   "id": "a17bdc01",
   "metadata": {
    "execution": {
     "iopub.execute_input": "2022-08-15T11:58:50.988193Z",
     "iopub.status.busy": "2022-08-15T11:58:50.987740Z",
     "iopub.status.idle": "2022-08-15T11:58:51.016194Z",
     "shell.execute_reply": "2022-08-15T11:58:51.015364Z"
    },
    "papermill": {
     "duration": 0.053539,
     "end_time": "2022-08-15T11:58:51.018271",
     "exception": false,
     "start_time": "2022-08-15T11:58:50.964732",
     "status": "completed"
    },
    "tags": []
   },
   "outputs": [],
   "source": []
  },
  {
   "cell_type": "markdown",
   "id": "0e21d589",
   "metadata": {
    "papermill": {
     "duration": 0.022643,
     "end_time": "2022-08-15T11:58:51.138775",
     "exception": false,
     "start_time": "2022-08-15T11:58:51.116132",
     "status": "completed"
    },
    "tags": []
   },
   "source": [
    "**13) Find all the instances where: Category is 'Movie' and Type is 'Dramas' or Category is 'TV Show' & Type is 'Kids' TV'**"
   ]
  },
  {
   "cell_type": "code",
   "execution_count": null,
   "id": "bd94ef8b",
   "metadata": {
    "execution": {
     "iopub.execute_input": "2022-08-15T11:58:51.186067Z",
     "iopub.status.busy": "2022-08-15T11:58:51.185358Z",
     "iopub.status.idle": "2022-08-15T11:58:51.213128Z",
     "shell.execute_reply": "2022-08-15T11:58:51.212364Z"
    },
    "papermill": {
     "duration": 0.053948,
     "end_time": "2022-08-15T11:58:51.215385",
     "exception": false,
     "start_time": "2022-08-15T11:58:51.161437",
     "status": "completed"
    },
    "tags": []
   },
   "outputs": [],
   "source": []
  },
  {
   "cell_type": "code",
   "execution_count": null,
   "id": "b51420a5",
   "metadata": {
    "papermill": {
     "duration": 0.023038,
     "end_time": "2022-08-15T11:58:51.261528",
     "exception": false,
     "start_time": "2022-08-15T11:58:51.238490",
     "status": "completed"
    },
    "tags": []
   },
   "outputs": [],
   "source": []
  }
 ],
 "metadata": {
  "kernelspec": {
   "display_name": "Python 3 (ipykernel)",
   "language": "python",
   "name": "python3"
  },
  "language_info": {
   "codemirror_mode": {
    "name": "ipython",
    "version": 3
   },
   "file_extension": ".py",
   "mimetype": "text/x-python",
   "name": "python",
   "nbconvert_exporter": "python",
   "pygments_lexer": "ipython3",
   "version": "3.11.7"
  },
  "papermill": {
   "default_parameters": {},
   "duration": 18.054995,
   "end_time": "2022-08-15T11:58:52.007590",
   "environment_variables": {},
   "exception": null,
   "input_path": "__notebook__.ipynb",
   "output_path": "__notebook__.ipynb",
   "parameters": {},
   "start_time": "2022-08-15T11:58:33.952595",
   "version": "2.3.4"
  }
 },
 "nbformat": 4,
 "nbformat_minor": 5
}
